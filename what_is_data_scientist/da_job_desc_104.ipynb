{
 "cells": [
  {
   "cell_type": "markdown",
   "metadata": {},
   "source": [
    "# 104人力銀行資料分析師職缺的工作描述\n",
    "---\n",
    "HaHow課程 如何成為資料分析師 之課程學習應用"
   ]
  },
  {
   "cell_type": "markdown",
   "metadata": {},
   "source": [
    "### 載入需要使用的套件"
   ]
  },
  {
   "cell_type": "code",
   "execution_count": 1,
   "metadata": {},
   "outputs": [],
   "source": [
    "import requests\n",
    "import time\n",
    "import random\n",
    "import re\n",
    "import pandas as pd"
   ]
  },
  {
   "cell_type": "code",
   "execution_count": 5,
   "metadata": {},
   "outputs": [],
   "source": [
    "request_url = \"https://www.104.com.tw/jobs/search/list\""
   ]
  },
  {
   "cell_type": "markdown",
   "metadata": {},
   "source": [
    "### headers載入網站身分代理\n",
    "---\n",
    "這部分可能還要再釐清點"
   ]
  },
  {
   "cell_type": "code",
   "execution_count": 6,
   "metadata": {},
   "outputs": [],
   "source": [
    "request_headers = {\n",
    "    'Referer': 'https://www.104.com.tw/jobs/search/'\n",
    "}"
   ]
  },
  {
   "cell_type": "markdown",
   "metadata": {},
   "source": [
    "### Query String Parameters"
   ]
  },
  {
   "cell_type": "code",
   "execution_count": 7,
   "metadata": {},
   "outputs": [],
   "source": [
    "query_string_parameters = {\n",
    "    'ro': '1',\n",
    "    'kwop': '7',\n",
    "    'keyword': '資料分析師',\n",
    "    'jobcatExpansionType': '0',\n",
    "    'order': '15',\n",
    "    'asc': '0',\n",
    "    'page': '1',\n",
    "    'jobexp': '1',\n",
    "    'mode': 's',\n",
    "    'jobsource': '2018indexpoc'\n",
    "}"
   ]
  },
  {
   "cell_type": "code",
   "execution_count": 9,
   "metadata": {},
   "outputs": [
    {
     "name": "stdout",
     "output_type": "stream",
     "text": [
      "200\n"
     ]
    }
   ],
   "source": [
    "response = requests.get(request_url, params=query_string_parameters, headers=request_headers)\n",
    "print(response.status_code)"
   ]
  },
  {
   "cell_type": "markdown",
   "metadata": {},
   "source": [
    "### 剖析回應"
   ]
  },
  {
   "cell_type": "code",
   "execution_count": 11,
   "metadata": {},
   "outputs": [
    {
     "name": "stdout",
     "output_type": "stream",
     "text": [
      "符合搜尋條件的職缺有107筆，分佈在6頁\n"
     ]
    }
   ],
   "source": [
    "response_json = response.json()\n",
    "n_jobs = response_json['data']['totalCount']\n",
    "n_pages = response_json['data']['totalPage']\n",
    "print(\"符合搜尋條件的職缺有{}筆，分佈在{}頁\".format(n_jobs, n_pages))"
   ]
  },
  {
   "cell_type": "markdown",
   "metadata": {},
   "source": [
    "網頁爬蟲要有時間間隔 以免造成伺服器負荷(*切記切記)"
   ]
  },
  {
   "cell_type": "code",
   "execution_count": 12,
   "metadata": {},
   "outputs": [],
   "source": [
    "def get_job_links():\n",
    "    job_links = []\n",
    "    for page in range(1, n_pages+1):\n",
    "        query_string_parameters = {\n",
    "            'ro': '1',\n",
    "            'kwop': '7',\n",
    "            'keyword': '資料分析師',\n",
    "            'jobcatExpansionType': '0',\n",
    "            'order': '15',\n",
    "            'asc': '0',\n",
    "            'page': str(page), # 換頁在這邊\n",
    "            'jobexp': '1',\n",
    "            'mode': 's',\n",
    "            'jobsource': '2018indexpoc'\n",
    "        }\n",
    "        response = requests.get(request_url, params=query_string_parameters, headers=request_headers)\n",
    "        response_json = response.json()\n",
    "        for job in response_json['data']['list']:\n",
    "            job_link = job['link']['job'].replace('//','')\n",
    "            job_link = \"https://{}\".format(job_link)\n",
    "            job_links.append(job_link)\n",
    "        print(\"正在爬取第{}頁的資訊...\".format(page))\n",
    "        sleep_time = random.randint(5, 10)\n",
    "        time.sleep(sleep_time)\n",
    "    return job_links"
   ]
  },
  {
   "cell_type": "code",
   "execution_count": 13,
   "metadata": {},
   "outputs": [
    {
     "name": "stdout",
     "output_type": "stream",
     "text": [
      "正在爬取第1頁的資訊...\n",
      "正在爬取第2頁的資訊...\n",
      "正在爬取第3頁的資訊...\n",
      "正在爬取第4頁的資訊...\n",
      "正在爬取第5頁的資訊...\n",
      "正在爬取第6頁的資訊...\n"
     ]
    }
   ],
   "source": [
    "job_links = get_job_links()"
   ]
  },
  {
   "cell_type": "code",
   "execution_count": 14,
   "metadata": {},
   "outputs": [
    {
     "data": {
      "text/plain": [
       "107"
      ]
     },
     "execution_count": 14,
     "metadata": {},
     "output_type": "execute_result"
    }
   ],
   "source": [
    "len(job_links)"
   ]
  },
  {
   "cell_type": "code",
   "execution_count": 15,
   "metadata": {},
   "outputs": [],
   "source": [
    "def get_job_desc(job_links):\n",
    "    job_ids = [re.split(\"/|\\?\", i)[-2] for i in job_links]\n",
    "    job_descriptions = []\n",
    "    for job_id, job_link in zip(job_ids, job_links):\n",
    "        request_url = \"https://www.104.com.tw/job/ajax/content/{}\".format(job_id)\n",
    "        request_header = {\n",
    "            'Referer': job_link\n",
    "        }\n",
    "        response = requests.get(request_url, headers=request_headers)\n",
    "        response_json = response.json()\n",
    "        company = response_json['data']['header']['custName']\n",
    "        job_title = response_json['data']['header']['jobName']\n",
    "        job_desc = response_json['data']['jobDetail']['jobDescription']\n",
    "        job_desc = re.sub(\"\\n|\\r\", \"\", job_desc)\n",
    "        job_data = {\n",
    "            'company': company,\n",
    "            'jobTitle': job_title,\n",
    "            'jobDesc': job_desc\n",
    "        }\n",
    "        job_descriptions.append(job_data)\n",
    "        print(\"正在爬取{}的{}工作描述...\".format(company, job_title))\n",
    "        sleep_time = random.randint(1, 5)\n",
    "        time.sleep(sleep_time)\n",
    "    return job_descriptions"
   ]
  },
  {
   "cell_type": "code",
   "execution_count": 16,
   "metadata": {},
   "outputs": [
    {
     "name": "stdout",
     "output_type": "stream",
     "text": [
      "正在爬取PIXNET_優像數位媒體科技股份有限公司的資料分析師(NC-痞客邦研發中心)工作描述...\n",
      "正在爬取美商心環科技股份有限公司的資料分析師工作描述...\n",
      "正在爬取烏龜移動科技股份有限公司的資料分析師工作描述...\n",
      "正在爬取艾普特媒體有限公司的資料分析師工作描述...\n",
      "正在爬取永慶房產集團_永慶房屋仲介股份有限公司的資料分析師.工作描述...\n",
      "正在爬取艾思網絡股份有限公司的商業資料分析師 Business Data Analyst工作描述...\n",
      "正在爬取永豐金證券股份有限公司的資料分析師(資訊部)工作描述...\n",
      "正在爬取意藍資訊股份有限公司的資料分析師 (社群資料、人群資料)工作描述...\n",
      "正在爬取童綜合醫療社團法人童綜合醫院的童綜合醫院資料分析師(資訊部)工作描述...\n",
      "正在爬取聯強國際股份有限公司的資料分析師(全球第二大IT通路集團)工作描述...\n",
      "正在爬取凱鈿行動科技股份有限公司的資料分析師 Data Analyst (台南/Tainan)工作描述...\n",
      "正在爬取國泰世華商業銀行股份有限公司_人力資源部的【數據生態營運】資料科學分析師 -數據應用 (數數發中心,DDT)工作描述...\n",
      "正在爬取廣達電腦股份有限公司的資料數據分析工程師/專員 - J1913工作描述...\n",
      "正在爬取意藍資訊股份有限公司的產品分析師 (PeopleView人群資料庫)工作描述...\n",
      "正在爬取伊雲谷數位科技股份有限公司的Data Scientist 資料科學家_數據分析師工作描述...\n",
      "正在爬取中國醫藥大學附設醫院的1M94-醫療智慧中心臨床資料組 初級臨床數據分析師工作描述...\n",
      "正在爬取國泰金控_國泰金融控股股份有限公司的資料科學分析師（Data Science R&D）- 資料科學實驗室(數數發中心, DDT)工作描述...\n",
      "正在爬取國泰世華商業銀行股份有限公司_人力資源部的【數據生態營運】資料科學分析師-數據分析 (數數發中心,DDT)工作描述...\n",
      "正在爬取宇峻奧汀科技股份有限公司的遊戲數據分析工程師工作描述...\n",
      "正在爬取兆威數位媒體有限公司的資料庫開發工程師(DBA)工作描述...\n",
      "正在爬取錼創顯示科技股份有限公司的數據整合工程師（竹南科學園區）工作描述...\n",
      "正在爬取泰瑩科技股份有限公司的系統工程師工作描述...\n",
      "正在爬取博暉科技股份有限公司的資產管理系統開發人才C#(AM)工作描述...\n",
      "正在爬取中華系統整合股份有限公司的大數據-應用工程師工作描述...\n",
      "正在爬取富智康國際股份有限公司(鴻海集團)的【S】資料庫開發與管理工程師(土城)工作描述...\n",
      "正在爬取新北大眾捷運股份有限公司的資訊助理工程員工作描述...\n",
      "正在爬取安布思沛行銷股份有限公司的雲端工程師 Cloud Engineer工作描述...\n",
      "正在爬取鴻璟科技股份有限公司的網路安全分析工程師工作描述...\n",
      "正在爬取中國航運股份有限公司的資訊人員-資料整合分析人員工作描述...\n",
      "正在爬取OK超商_來來超商股份有限公司的【總公司】 資訊部-資料分析專員-A01工作描述...\n",
      "正在爬取博識資訊顧問有限公司的系統分析師工作描述...\n",
      "正在爬取全球人事顧問股份有限公司的知名國鐵系統應用工程師Y工作描述...\n",
      "正在爬取農識國際股份有限公司的系統工程師工作描述...\n",
      "正在爬取凱信資訊股份有限公司的資訊安全工程師 (資料安全保護)工作描述...\n",
      "正在爬取國家表演藝術中心國家兩廳院的資訊組專員工作描述...\n",
      "正在爬取連宜股份有限公司的資訊專員(上班地點:前鎮)工作描述...\n",
      "正在爬取志光教育科技股份有限公司的網路程式設計師(金榜數位分公司)工作描述...\n",
      "正在爬取緯穎科技服務股份有限公司的B0J2-ETL 資料工程師工作描述...\n",
      "正在爬取美而快實業股份有限公司的數據工程師 (Data Engineer)工作描述...\n",
      "正在爬取永豐金證券股份有限公司的2020年數位科技人才招募專區-Data analyst (DA)工作描述...\n",
      "正在爬取聖洋科技股份有限公司的(F)R-系統分析師工作描述...\n",
      "正在爬取鴻璟科技股份有限公司的網路流量分析工程師工作描述...\n",
      "正在爬取鴻璟科技股份有限公司的研發替代役_網路安全分析工程師工作描述...\n",
      "正在爬取鴻璟科技股份有限公司的研發替代役_網路流量分析工程師工作描述...\n",
      "正在爬取昊青股份有限公司的資料科學工程師工作描述...\n",
      "正在爬取聖嘉資訊科技股份有限公司的資料工程師工作描述...\n",
      "正在爬取艾力特科技有限公司的DevOps 資深工程師/工程師工作描述...\n",
      "正在爬取工研院 _財團法人工業技術研究院的工研院巨資中心_人工智慧與巨量資料平台技術研發工程師(W201)工作描述...\n",
      "正在爬取ViewSonic Corporation_優派國際股份有限公司的雲端資安管理員 Cloud Security Administrator工作描述...\n",
      "正在爬取OK超商_來來超商股份有限公司的【總公司】 資訊部-資料分析專員-B01工作描述...\n",
      "正在爬取松果購物股份有限公司的電子商務資料工程師 Data Engineer工作描述...\n",
      "正在爬取朕臨科技股份有限公司的MIS工程師工作描述...\n",
      "正在爬取明基電通股份有限公司的資深資料工程師【明基BenQ Data Application】工作描述...\n",
      "正在爬取德隆科技有限公司的產品分析策劃員工作描述...\n",
      "正在爬取復華證券投資信託股份有限公司的助理研究員工作描述...\n",
      "正在爬取天氣風險管理開發股份有限公司的助理天氣分析師工作描述...\n",
      "正在爬取森勃爾科技有限公司的Java 程式設計師 / 軟體工程師 (PG)工作描述...\n",
      "正在爬取歐立威科技股份有限公司的資料倉儲工程師 (台北) (資料庫/大數據/巨量資料/資料倉儲/新鮮人可)工作描述...\n",
      "正在爬取尋憶旅行社有限公司的系統分析師工作描述...\n",
      "正在爬取國泰金控_國泰金融控股股份有限公司的數據應用工程師-數據科技(數數發中心, DDT)工作描述...\n",
      "正在爬取運達證券投資顧問股份有限公司的分析師工作描述...\n",
      "正在爬取醫療財團法人羅許基金會羅東博愛醫院的營運中心-數據分析師工作描述...\n",
      "正在爬取大數據股份有限公司的數據分析師工作描述...\n",
      "正在爬取國泰金控_國泰金融控股股份有限公司的資料科學工程師（Scala / Java 軟體工程）-- 資料科學實驗室 (數數發中心, DDT)工作描述...\n",
      "正在爬取國泰金控_國泰金融控股股份有限公司的資料科學工程師（Python 軟體工程）-- 資料科學實驗室 (數數發中心, DDT)工作描述...\n",
      "正在爬取天旭國際科技有限公司的C#/.NET Core 開發工程師工作描述...\n",
      "正在爬取歐立威科技股份有限公司的資料倉儲工程師 (新竹) (資料庫/大數據/巨量資料/資料倉儲/新鮮人可)工作描述...\n",
      "正在爬取耀欣數位科技股份有限公司的軟體工程師(招募馬來西亞僑生)工作描述...\n",
      "正在爬取肯微科技股份有限公司的MIS資深工程師/主管工作描述...\n",
      "正在爬取路由共享管理顧問有限公司的網路工具使用研究員(男女不限)工作描述...\n",
      "正在爬取91APP_九易宇軒股份有限公司的Big Data Solution PO 大數據應用產品經理工作描述...\n",
      "正在爬取菜蟲農食股份有限公司的營運部-營運分析師工作描述...\n",
      "正在爬取國泰金控_國泰金融控股股份有限公司的資料科學工程師（微服務產品開發）- 資料科學實驗室  (數數發中心, DDT)工作描述...\n",
      "正在爬取財團法人中華經濟研究院的第三研究所 (台灣經濟所)徵專任博士輔佐研究員(博士後研究)1名工作描述...\n",
      "正在爬取崧旭資訊股份有限公司的工讀生-GCS (學生實習)工作描述...\n",
      "正在爬取麟數據科技股份有限公司的社群數據分析師工作描述...\n",
      "正在爬取菜蟲農食股份有限公司的客戶關係發展部-商務營運分析師 Business Operations Analyst, Client Relations工作描述...\n",
      "正在爬取明億鑫精密股份有限公司的軟體研發工程師 (助理工程師/工程師/系統分析師/專案經理人)工作描述...\n",
      "正在爬取人工智能股份有限公司的[專案部-金融資訊] 專案工程師 (Programmer) 工作描述...\n",
      "正在爬取麟數據科技股份有限公司的業務專員工作描述...\n",
      "正在爬取香港商天景數碼有限公司台灣分公司的業務分析師 Business Analyst工作描述...\n",
      "正在爬取欣興電子股份有限公司的【工業4.0】智慧製造程式設計工程師++熟悉VB.Net、C#++(新豐廠)工作描述...\n",
      "正在爬取菲律賓商寶勵科技股份有限公司的資料庫工程師 DBA Database Administrator工作描述...\n",
      "正在爬取國泰人壽保險股份有限公司_總公司_國泰金控的WAS、JBoss應用伺服器系統工程師工作描述...\n",
      "正在爬取龍華科技大學的資訊系統程式設計人員工作描述...\n",
      "正在爬取欣興電子股份有限公司的【工業4.0】智慧製造系統設計工程師++熟悉VB.Net、C#++工作描述...\n",
      "正在爬取薩摩亞商快雪時晴科技有限公司的內科高薪數據庫工程師工作描述...\n",
      "正在爬取薩摩亞商快雪時晴科技有限公司的內科高薪專案管理專員工作描述...\n",
      "正在爬取國立臺灣大學的計資中心誠徵約用人員（碩士級資安人員）工作描述...\n",
      "正在爬取神通資訊科技股份有限公司的109G03_資料分析師/資料工程師工作描述...\n",
      "正在爬取向上國際科技股份有限公司的【產品營運】數據分析師工作描述...\n",
      "正在爬取欣興電子股份有限公司的【工業4.0】智慧製造系統設計工程師++熟悉VB.Net、C#++(楊梅儲備)工作描述...\n",
      "正在爬取欣興電子股份有限公司的【工業4.0】智慧製造程式設計工程師++熟悉VB.Net、C#++(楊梅儲備)工作描述...\n",
      "正在爬取財團法人中華民國佛教慈濟慈善事業基金會的系統分析師（工作地點：花蓮）工作描述...\n",
      "正在爬取日月光半導體製造股份有限公司中壢分公司的【IT】ERP系統工程師 (SAP ABAP維護、開發)工作描述...\n",
      "正在爬取漢磊科技股份有限公司的CIM工程師工作描述...\n",
      "正在爬取鴻海精密工業股份有限公司的系統分析工程師工作描述...\n",
      "正在爬取世銳顧問有限公司的分析師 Analyst工作描述...\n",
      "正在爬取漢磊科技股份有限公司的ECS資訊工程師工作描述...\n",
      "正在爬取資策會_財團法人資訊工業策進會的【2020年重點徵才專區】巨量資料分析師工作描述...\n",
      "正在爬取台南電池有限公司的MIS網管人員.台南.高雄 週休二日(薪$30000)(請直接親洽面試)工作描述...\n",
      "正在爬取欣興電子股份有限公司的【工業4.0】智慧製造程式設計工程師++熟悉VB.Net、C#++工作描述...\n",
      "正在爬取KPMG_安侯建業聯合會計師事務所的【顧問部】商業流程與科技應用顧問-319D工作描述...\n",
      "正在爬取工研院 _財團法人工業技術研究院的產科國際所_醫療器材領域產業分析師(0E100)工作描述...\n",
      "正在爬取工研院 _財團法人工業技術研究院的產科國際所_能源領域產業分析師(0F100)工作描述...\n",
      "正在爬取叡揚資訊股份有限公司的程式分析師(20071401A)工作描述...\n",
      "正在爬取連宜股份有限公司的資訊專員(上班地點:岡山)工作描述...\n"
     ]
    }
   ],
   "source": [
    "job_desc = get_job_desc(job_links)"
   ]
  },
  {
   "cell_type": "code",
   "execution_count": null,
   "metadata": {},
   "outputs": [],
   "source": []
  }
 ],
 "metadata": {
  "kernelspec": {
   "display_name": "Python 3",
   "language": "python",
   "name": "python3"
  },
  "language_info": {
   "codemirror_mode": {
    "name": "ipython",
    "version": 3
   },
   "file_extension": ".py",
   "mimetype": "text/x-python",
   "name": "python",
   "nbconvert_exporter": "python",
   "pygments_lexer": "ipython3",
   "version": "3.7.3"
  }
 },
 "nbformat": 4,
 "nbformat_minor": 2
}
